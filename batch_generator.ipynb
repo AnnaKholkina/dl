{
  "nbformat": 4,
  "nbformat_minor": 0,
  "metadata": {
    "colab": {
      "name": "batch_generator.ipynb",
      "provenance": [],
      "authorship_tag": "ABX9TyOUzyi6RPTZV1mWuRh0FQen",
      "include_colab_link": true
    },
    "kernelspec": {
      "name": "python3",
      "display_name": "Python 3"
    },
    "language_info": {
      "name": "python"
    }
  },
  "cells": [
    {
      "cell_type": "markdown",
      "metadata": {
        "id": "view-in-github",
        "colab_type": "text"
      },
      "source": [
        "<a href=\"https://colab.research.google.com/github/AnnaKholkina/dl/blob/main/batch_generator.ipynb\" target=\"_parent\"><img src=\"https://colab.research.google.com/assets/colab-badge.svg\" alt=\"Open In Colab\"/></a>"
      ]
    },
    {
      "cell_type": "code",
      "execution_count": 1,
      "metadata": {
        "id": "rOJ_ZPUQsBBY"
      },
      "outputs": [],
      "source": [
        "import numpy as np"
      ]
    },
    {
      "cell_type": "code",
      "source": [
        "def generate_batches(X, y, batch_size):\n",
        "    \"\"\"\n",
        "    param X: np.array[n_objects, n_features] --- матрица объекты-признаки\n",
        "    param y: np.array[n_objects] --- вектор целевых переменных\n",
        "    \"\"\"\n",
        "    assert len(X) == len(y)\n",
        "    np.random.seed(42)\n",
        "    X = np.array(X)\n",
        "    y = np.array(y)\n",
        "    perm = np.random.permutation(len(X))\n",
        "\n",
        "    for batch_start in range(1, len(X) // batch_size + 1):\n",
        "      mask = perm[(batch_start-1)*batch_size : batch_start * batch_size]\n",
        "      yield X[mask], y[mask]"
      ],
      "metadata": {
        "id": "74St0yg6sOBl"
      },
      "execution_count": 4,
      "outputs": []
    },
    {
      "cell_type": "code",
      "source": [
        "X_fake = np.arange(100)[:, np.newaxis]\n",
        "y_fake = np.arange(100) + 1000\n",
        "\n",
        "X_reconstructed, y_reconstructed = [], []\n",
        "for X_batch, y_batch in generate_batches(X_fake, y_fake, 10):\n",
        "    X_reconstructed.append(X_batch)\n",
        "    y_reconstructed.append(y_batch)\n",
        "\n",
        "X_reconstructed = np.concatenate(X_reconstructed)\n",
        "y_reconstructed = np.concatenate(y_reconstructed)\n",
        "\n",
        "assert (X_fake != X_reconstructed).all(), \"Что-то не так!\"\n",
        "assert (y_fake != y_reconstructed).all(), \"Что-то не так!\"\n",
        "\n",
        "assert (np.sort(X_reconstructed, axis=0) == X_fake).all(), \"Что-то не так!\""
      ],
      "metadata": {
        "id": "-RGD36mJsRpQ"
      },
      "execution_count": 5,
      "outputs": []
    }
  ]
}