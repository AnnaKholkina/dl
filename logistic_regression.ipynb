{
  "nbformat": 4,
  "nbformat_minor": 0,
  "metadata": {
    "colab": {
      "name": "logistic_regression.ipynb",
      "provenance": [],
      "authorship_tag": "ABX9TyMwxxmw7yMCtFlBveOHI32P"
    },
    "kernelspec": {
      "name": "python3",
      "display_name": "Python 3"
    },
    "language_info": {
      "name": "python"
    }
  },
  "cells": [
    {
      "cell_type": "code",
      "execution_count": 1,
      "metadata": {
        "id": "WUvRexCstkUx"
      },
      "outputs": [],
      "source": [
        "import numpy as np"
      ]
    },
    {
      "cell_type": "code",
      "source": [
        "def logit(x, w):\n",
        "    return np.dot(x, w) # перемножение весов и иксов\n",
        "\n",
        "def sigmoid(h):\n",
        "    return 1. / (1 + np.exp(-h)) # взятие сигмоидной функции активации"
      ],
      "metadata": {
        "id": "M83jF6zYtqXp"
      },
      "execution_count": 3,
      "outputs": []
    },
    {
      "cell_type": "code",
      "source": [
        "def generate_batches(X, y, batch_size):\n",
        "    \"\"\"\n",
        "    param X: np.array[n_objects, n_features] --- матрица объекты-признаки\n",
        "    param y: np.array[n_objects] --- вектор целевых переменных\n",
        "    \"\"\"\n",
        "    assert len(X) == len(y)\n",
        "    np.random.seed(42)\n",
        "    X = np.array(X)\n",
        "    y = np.array(y)\n",
        "    perm = np.random.permutation(len(X))\n",
        "\n",
        "    for batch_start in range(1, len(X) // batch_size + 1):\n",
        "      mask = perm[(batch_start-1)*batch_size : batch_start * batch_size]\n",
        "      yield X[mask], y[mask]"
      ],
      "metadata": {
        "id": "kekjwFPvvMcp"
      },
      "execution_count": 4,
      "outputs": []
    },
    {
      "cell_type": "markdown",
      "source": [
        "# Обычная логистическая регрессия \n",
        "\n",
        "Формулы для loss и `get_grad`:\n",
        "\n",
        "$$Loss(y, p) = -\\sum_{i=1}^{l} (y_i \\log (p_i) + (1 - y_i) \\log (1 - p_i))$$\n",
        "\n",
        "\n",
        "$$ \\frac{\\partial L}{\\partial w} = X^T (p - y)$$"
      ],
      "metadata": {
        "id": "_ezImPghurGJ"
      }
    },
    {
      "cell_type": "code",
      "source": [
        "class MyLogisticRegression(object):\n",
        "    def __init__(self):\n",
        "        self.w = None\n",
        "    \n",
        "    def fit(self, X, y, epochs=10, lr=0.1, batch_size=100):\n",
        "        n, k = X.shape        \n",
        "        if self.w is None:\n",
        "            np.random.seed(42)\n",
        "            # Вектор столбец в качестве весов\n",
        "            self.w = np.random.randn(k + 1)\n",
        "\n",
        "        X_train = np.concatenate((np.ones((n, 1)), X), axis=1)\n",
        "        \n",
        "        losses = []\n",
        "\n",
        "        for i in range(epochs):\n",
        "            for X_batch, y_batch in generate_batches(X_train, y, batch_size):\n",
        "                #В X_train уже добавлен вектор 1\n",
        "\n",
        "                predictions = self._predict_proba_internal(X_batch)\n",
        "                loss =  self.__loss(y_batch, predictions)\n",
        "                assert (np.array(loss).shape == tuple()), \"Лосс должен быть скаляром!\" \n",
        "\n",
        "                losses.append(loss)\n",
        "                \n",
        "                self.w[:1] -= self.get_grad(X_batch, y_batch, predictions) * lr\n",
        "        return losses\n",
        "    \n",
        "    def get_grad(self, X_batch, y_batch, predictions):\n",
        "        \"\"\"\n",
        "        param X_batch: np.array[batch_size, n_features + 1] --- матрица объекты-признаки\n",
        "        param y_batch: np.array[batch_size] --- батч целевых переменных\n",
        "        param predictions: np.array[batch_size] --- батч вероятностей классов\n",
        "\n",
        "        Выход -- вектор-столбец градиентов для каждого веса (np.array[n_features + 1])\n",
        "        \"\"\"\n",
        "        \n",
        "        grad_basic = np.dot(X_batch.T, (predictions - y_batch))\n",
        "        assert grad_basic.shape == (X_batch.shape[1],) , \"Градиенты должны быть столбцом из k_features + 1 элементов\"\n",
        "        return grad_basic\n",
        "        \n",
        "    def predict_proba(self, X):\n",
        "        n, k = X.shape\n",
        "        X_ = np.concatenate((np.ones((n, 1)), X), axis=1)\n",
        "        return sigmoid(logit(X_, self.w))\n",
        "\n",
        "    def _predict_proba_internal(self, X): \n",
        "        \"\"\"\n",
        "        На случай, если не нужно конкатенации с вектором единиц. То же самое, что predict_proba\n",
        "        \"\"\"\n",
        "\n",
        "        return sigmoid(logit(X, self.w))\n",
        "\n",
        "    def predict(self, X, threshold=0.5):\n",
        "        return self.predict_proba(X) >= threshold\n",
        "    \n",
        "    def get_weights(self):\n",
        "        return self.w.copy() # не убирать copy, иначе произойдут изменения в весах\n",
        "      \n",
        "    def __loss(self, y, p):  \n",
        "        p = np.clip(p, 1e-10, 1 - 1e-10)\n",
        "        return -np.sum(y * np.log(p) + (1 - y) * np.log(1 - p))"
      ],
      "metadata": {
        "id": "DXfafQi-twnG"
      },
      "execution_count": 6,
      "outputs": []
    },
    {
      "cell_type": "markdown",
      "source": [
        "## Юнит-тесты"
      ],
      "metadata": {
        "id": "TXAUIBJRvY5T"
      }
    },
    {
      "cell_type": "code",
      "source": [
        "m = MyLogisticRegression()\n",
        "X = np.array([[1, 3, 4], [1, -5, 6], [-3, 5, 3]])\n",
        "X = np.concatenate((np.ones((X.shape[0], 1)), X), axis=1)\n",
        "y = np.array([1, 0, 1])\n",
        "preds = np.array([.55, .22, .85])\n",
        "grads = m.get_grad(X, y, preds) \n",
        "assert np.allclose(grads, np.array([-0.38,  0.22, -3.2 , -0.93])), \"Что-то не так!\""
      ],
      "metadata": {
        "id": "itd-dDVove28"
      },
      "execution_count": 7,
      "outputs": []
    },
    {
      "cell_type": "code",
      "source": [
        "np.random.seed(42)\n",
        "m = MyLogisticRegression()\n",
        "X = np.random.rand(100,3)\n",
        "y = np.random.randint(0, 1, size=(100,))\n",
        "preds = np.random.rand(100)\n",
        "grads = m.get_grad(X, y, preds) \n",
        "assert np.allclose(grads, np.array([23.8698149, 25.27049356, 24.4139452])), \"Что-то не так!\""
      ],
      "metadata": {
        "id": "CNeCXImCvvU2"
      },
      "execution_count": 8,
      "outputs": []
    },
    {
      "cell_type": "code",
      "source": [
        ""
      ],
      "metadata": {
        "id": "KC1-6k49vxgb"
      },
      "execution_count": null,
      "outputs": []
    }
  ]
}