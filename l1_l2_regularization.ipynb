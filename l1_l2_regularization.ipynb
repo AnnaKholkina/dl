{
  "nbformat": 4,
  "nbformat_minor": 0,
  "metadata": {
    "colab": {
      "name": "l1_l2_regularization.ipynb",
      "provenance": [],
      "authorship_tag": "ABX9TyPywl5q17AUaa1rEn4kUEbO",
      "include_colab_link": true
    },
    "kernelspec": {
      "name": "python3",
      "display_name": "Python 3"
    },
    "language_info": {
      "name": "python"
    }
  },
  "cells": [
    {
      "cell_type": "markdown",
      "metadata": {
        "id": "view-in-github",
        "colab_type": "text"
      },
      "source": [
        "<a href=\"https://colab.research.google.com/github/AnnaKholkina/dl/blob/main/l1_l2_regularization.ipynb\" target=\"_parent\"><img src=\"https://colab.research.google.com/assets/colab-badge.svg\" alt=\"Open In Colab\"/></a>"
      ]
    },
    {
      "cell_type": "code",
      "execution_count": 1,
      "metadata": {
        "id": "19s4nDsy3xaV"
      },
      "outputs": [],
      "source": [
        "import numpy as np"
      ]
    },
    {
      "cell_type": "markdown",
      "source": [
        "## L1 и L2 регуляризация\n",
        "\n",
        "Применено наследование от класса MyLogisticRegression, он описан ниже.\n",
        "\n",
        "Формулы:\n",
        "\n",
        "$$L_1 (w) = \\alpha \\sum_{j=1}^{n}|w_j| $$\n",
        "\n",
        "$$L_2 (w) = \\beta\\sum_{j=1}^{n}w_j^2$$\n",
        "\n",
        "$$\\frac{\\partial L_1}{\\partial w_1} = \\alpha \\cdot \\mathrm{sign}(w_1)$$\n",
        "\n",
        "$$ \\frac{\\partial L_2}{\\partial w_1} = 2\\beta w_1$$"
      ],
      "metadata": {
        "id": "SVakp55l4NhO"
      }
    },
    {
      "cell_type": "code",
      "source": [
        "class MyElasticLogisticRegression(MyLogisticRegression):\n",
        "    def __init__(self, l1_coef, l2_coef):\n",
        "        self.l1_coef = l1_coef\n",
        "        self.l2_coef = l2_coef\n",
        "        self.w = None\n",
        "    \n",
        "    def get_grad(self, X_batch, y_batch, predictions):\n",
        "        \"\"\"\n",
        "        Принимает на вход X_batch с уже добавленной колонкой единиц. \n",
        "        \n",
        "        Выход -- вектор-столбец градиентов для каждого веса (np.array[n_features + 1])\n",
        "        \"\"\"\n",
        "\n",
        "\n",
        "        grad_basic = grad_basic = np.dot(X_batch.T, (predictions - y_batch))\n",
        "        grad_l1 = np.sign(self.w)*self.l1_coef\n",
        "        grad_l2 = 2*self.l2_coef*self.w\n",
        "        grad_l1[0] = 0\n",
        "        grad_l2[0] = 0\n",
        "        # Обнуление первой компоненты обязательно, т.к. w[0] - константа (bias)\n",
        "        \n",
        "        assert grad_l1[0] == grad_l2[0] == 0, \"Bias в регуляризационные слагаемые не входит!\"\n",
        "        assert grad_basic.shape == grad_l1.shape == grad_l2.shape == (X_batch.shape[1],) , \"Градиенты должны быть столбцом из k_features + 1 элементов\"\n",
        "        \n",
        "        return grad_basic + grad_l1 + grad_l2"
      ],
      "metadata": {
        "id": "CBqQUfUN3zT_"
      },
      "execution_count": 4,
      "outputs": []
    },
    {
      "cell_type": "code",
      "source": [
        "class MyLogisticRegression(object):\n",
        "    def __init__(self):\n",
        "        self.w = None\n",
        "    \n",
        "    def fit(self, X, y, epochs=10, lr=0.1, batch_size=100):\n",
        "        n, k = X.shape        \n",
        "        if self.w is None:\n",
        "            np.random.seed(42)\n",
        "            # Вектор столбец в качестве весов\n",
        "            self.w = np.random.randn(k + 1)\n",
        "\n",
        "        X_train = np.concatenate((np.ones((n, 1)), X), axis=1)\n",
        "        \n",
        "        losses = []\n",
        "\n",
        "        for i in range(epochs):\n",
        "            for X_batch, y_batch in generate_batches(X_train, y, batch_size):\n",
        "                #В X_train уже добавлен вектор 1\n",
        "\n",
        "                predictions = self._predict_proba_internal(X_batch)\n",
        "                loss =  self.__loss(y_batch, predictions)\n",
        "                assert (np.array(loss).shape == tuple()), \"Лосс должен быть скаляром!\" \n",
        "\n",
        "                losses.append(loss)\n",
        "                \n",
        "                self.w[:1] -= self.get_grad(X_batch, y_batch, predictions) * lr\n",
        "        return losses\n",
        "    \n",
        "    def get_grad(self, X_batch, y_batch, predictions):\n",
        "        \"\"\"\n",
        "        param X_batch: np.array[batch_size, n_features + 1] --- матрица объекты-признаки\n",
        "        param y_batch: np.array[batch_size] --- батч целевых переменных\n",
        "        param predictions: np.array[batch_size] --- батч вероятностей классов\n",
        "\n",
        "        Выход -- вектор-столбец градиентов для каждого веса (np.array[n_features + 1])\n",
        "        \"\"\"\n",
        "        \n",
        "        grad_basic = np.dot(X_batch.T, (predictions - y_batch))\n",
        "        assert grad_basic.shape == (X_batch.shape[1],) , \"Градиенты должны быть столбцом из k_features + 1 элементов\"\n",
        "        return grad_basic\n",
        "        \n",
        "    def predict_proba(self, X):\n",
        "        n, k = X.shape\n",
        "        X_ = np.concatenate((np.ones((n, 1)), X), axis=1)\n",
        "        return sigmoid(logit(X_, self.w))\n",
        "\n",
        "    def _predict_proba_internal(self, X): \n",
        "        \"\"\"\n",
        "        На случай, если не нужно конкатенации с вектором единиц. То же самое, что predict_proba\n",
        "        \"\"\"\n",
        "\n",
        "        return sigmoid(logit(X, self.w))\n",
        "\n",
        "    def predict(self, X, threshold=0.5):\n",
        "        return self.predict_proba(X) >= threshold\n",
        "    \n",
        "    def get_weights(self):\n",
        "        return self.w.copy() # не убирать copy, иначе произойдут изменения в весах\n",
        "      \n",
        "    def __loss(self, y, p):  \n",
        "        p = np.clip(p, 1e-10, 1 - 1e-10)\n",
        "        return -np.sum(y * np.log(p) + (1 - y) * np.log(1 - p))\n",
        "\n",
        "\n",
        "def logit(x, w):\n",
        "    return np.dot(x, w) # перемножение весов и иксов\n",
        "\n",
        "def sigmoid(h):\n",
        "    return 1. / (1 + np.exp(-h)) # взятие сигмоидной функции активации\n",
        "\n",
        "def generate_batches(X, y, batch_size):\n",
        "    \"\"\"\n",
        "    param X: np.array[n_objects, n_features] --- матрица объекты-признаки\n",
        "    param y: np.array[n_objects] --- вектор целевых переменных\n",
        "    \"\"\"\n",
        "    assert len(X) == len(y)\n",
        "    np.random.seed(42)\n",
        "    X = np.array(X)\n",
        "    y = np.array(y)\n",
        "    perm = np.random.permutation(len(X))\n",
        "\n",
        "    for batch_start in range(1, len(X) // batch_size + 1):\n",
        "      mask = perm[(batch_start-1)*batch_size : batch_start * batch_size]\n",
        "      yield X[mask], y[mask]"
      ],
      "metadata": {
        "id": "POaPDFI237zN"
      },
      "execution_count": 5,
      "outputs": []
    },
    {
      "cell_type": "code",
      "source": [
        ""
      ],
      "metadata": {
        "id": "MQBg1ZBr4C-m"
      },
      "execution_count": null,
      "outputs": []
    }
  ]
}